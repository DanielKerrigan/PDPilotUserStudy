{
 "cells": [
  {
   "cell_type": "code",
   "execution_count": null,
   "id": "4b3d59a8",
   "metadata": {},
   "outputs": [],
   "source": [
    "import pandas as pd\n",
    "import numpy as np\n",
    "import xgboost as xgb\n",
    "from sklearn.model_selection import train_test_split\n",
    "from pdpilot import partial_dependence, PDPilotWidget"
   ]
  },
  {
   "cell_type": "code",
   "execution_count": null,
   "id": "e30fd23f",
   "metadata": {},
   "outputs": [],
   "source": [
    "df = pd.read_csv('ames_processed.csv', na_values=[], keep_default_na=False)"
   ]
  },
  {
   "cell_type": "code",
   "execution_count": null,
   "id": "1eb504bc",
   "metadata": {},
   "outputs": [],
   "source": [
    "X = df.drop(columns=['Sale Price'])\n",
    "y = df['Sale Price'].values"
   ]
  },
  {
   "cell_type": "code",
   "execution_count": null,
   "id": "1c339e6a",
   "metadata": {},
   "outputs": [],
   "source": [
    "X_train, X_test, y_train, y_test = train_test_split(X, y, test_size=0.25, random_state=0)"
   ]
  },
  {
   "cell_type": "code",
   "execution_count": null,
   "id": "461e550a",
   "metadata": {},
   "outputs": [],
   "source": [
    "model = xgb.XGBRegressor()\n",
    "model.load_model('ames_model.json')"
   ]
  },
  {
   "cell_type": "code",
   "execution_count": null,
   "id": "aef1d073",
   "metadata": {},
   "outputs": [],
   "source": [
    "w = PDPilotWidget(\n",
    "    predict=model.predict,\n",
    "    df=X_train,\n",
    "    pd_data='ames_pd.json',\n",
    "    height=650\n",
    ")\n",
    "\n",
    "w"
   ]
  },
  {
   "cell_type": "code",
   "execution_count": null,
   "id": "193202ad",
   "metadata": {},
   "outputs": [],
   "source": []
  }
 ],
 "metadata": {
  "kernelspec": {
   "display_name": "Python 3 (ipykernel)",
   "language": "python",
   "name": "python3"
  },
  "language_info": {
   "codemirror_mode": {
    "name": "ipython",
    "version": 3
   },
   "file_extension": ".py",
   "mimetype": "text/x-python",
   "name": "python",
   "nbconvert_exporter": "python",
   "pygments_lexer": "ipython3",
   "version": "3.8.10"
  }
 },
 "nbformat": 4,
 "nbformat_minor": 5
}

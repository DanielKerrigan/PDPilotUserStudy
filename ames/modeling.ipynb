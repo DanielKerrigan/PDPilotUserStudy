{
 "cells": [
  {
   "cell_type": "code",
   "execution_count": null,
   "id": "4b3d59a8",
   "metadata": {},
   "outputs": [],
   "source": [
    "import pandas as pd\n",
    "import numpy as np\n",
    "import xgboost as xgb\n",
    "from sklearn.model_selection import train_test_split, GridSearchCV"
   ]
  },
  {
   "cell_type": "code",
   "execution_count": null,
   "id": "e30fd23f",
   "metadata": {},
   "outputs": [],
   "source": [
    "df = pd.read_csv('ames_processed.csv', na_values=[], keep_default_na=False)"
   ]
  },
  {
   "cell_type": "code",
   "execution_count": null,
   "id": "1eb504bc",
   "metadata": {},
   "outputs": [],
   "source": [
    "X = df.drop(columns=['Sale Price'])\n",
    "y = df['Sale Price'].values"
   ]
  },
  {
   "cell_type": "code",
   "execution_count": null,
   "id": "1327828f",
   "metadata": {},
   "outputs": [],
   "source": [
    "X_train, X_test, y_train, y_test = train_test_split(X, y, test_size=0.25, random_state=0)"
   ]
  },
  {
   "cell_type": "code",
   "execution_count": null,
   "id": "cf48e299",
   "metadata": {},
   "outputs": [],
   "source": [
    "xgb_model = xgb.XGBRegressor(objective='reg:squarederror')\n",
    "\n",
    "clf = GridSearchCV(\n",
    "    xgb_model,\n",
    "    {\n",
    "        'subsample': np.linspace(0.05, 1, num=5),\n",
    "        'colsample_bytree': np.linspace(0.05, 1, num=5),\n",
    "        'max_depth': [2, 4, 6, 8],\n",
    "        'n_estimators': [50, 100, 200, 400]\n",
    "    }, \n",
    "    verbose=2,\n",
    "    n_jobs=4\n",
    ")\n",
    "\n",
    "clf.fit(X_train, y_train)"
   ]
  },
  {
   "cell_type": "code",
   "execution_count": null,
   "id": "f448cefc",
   "metadata": {},
   "outputs": [],
   "source": [
    "model = clf.best_estimator_"
   ]
  },
  {
   "cell_type": "code",
   "execution_count": null,
   "id": "4f3b6930",
   "metadata": {},
   "outputs": [],
   "source": [
    "clf.best_params_"
   ]
  },
  {
   "cell_type": "code",
   "execution_count": null,
   "id": "f9d7f3c6",
   "metadata": {},
   "outputs": [],
   "source": [
    "clf.best_score_"
   ]
  },
  {
   "cell_type": "code",
   "execution_count": null,
   "id": "3d7f9e12",
   "metadata": {},
   "outputs": [],
   "source": [
    "y_pred = model.predict(X_train)\n",
    "u = ((y_train - y_pred)** 2).sum()\n",
    "v = ((y_train - y_train.mean()) ** 2).sum()\n",
    "1 - (u / v)"
   ]
  },
  {
   "cell_type": "code",
   "execution_count": null,
   "id": "079586b2",
   "metadata": {},
   "outputs": [],
   "source": [
    "model.save_model('ames_model.json')"
   ]
  },
  {
   "cell_type": "code",
   "execution_count": null,
   "id": "9b41aca7",
   "metadata": {},
   "outputs": [],
   "source": []
  }
 ],
 "metadata": {
  "kernelspec": {
   "display_name": "Python 3 (ipykernel)",
   "language": "python",
   "name": "python3"
  },
  "language_info": {
   "codemirror_mode": {
    "name": "ipython",
    "version": 3
   },
   "file_extension": ".py",
   "mimetype": "text/x-python",
   "name": "python",
   "nbconvert_exporter": "python",
   "pygments_lexer": "ipython3",
   "version": "3.8.10"
  }
 },
 "nbformat": 4,
 "nbformat_minor": 5
}
